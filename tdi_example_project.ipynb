{
  "nbformat": 4,
  "nbformat_minor": 0,
  "metadata": {
    "colab": {
      "name": "tdi_example_project",
      "provenance": [],
      "authorship_tag": "ABX9TyNnnGVZjrIC1u/4/AQJHf5t",
      "include_colab_link": true
    },
    "kernelspec": {
      "name": "python3",
      "display_name": "Python 3"
    },
    "language_info": {
      "name": "python"
    }
  },
  "cells": [
    {
      "cell_type": "markdown",
      "metadata": {
        "id": "view-in-github",
        "colab_type": "text"
      },
      "source": [
        "<a href=\"https://colab.research.google.com/github/lynntf/tdi_example/blob/main/tdi_example_project.ipynb\" target=\"_parent\"><img src=\"https://colab.research.google.com/assets/colab-badge.svg\" alt=\"Open In Colab\"/></a>"
      ]
    },
    {
      "cell_type": "markdown",
      "metadata": {
        "id": "3E3nAzNc9mn2"
      },
      "source": [
        "Comparing data of income at the county level (irs data) and the instances of protests (ACLED data) to find trends between what kinds of communities are organizing or are being occupied by organized protests."
      ]
    },
    {
      "cell_type": "code",
      "metadata": {
        "colab": {
          "resources": {
            "http://localhost:8080/nbextensions/google.colab/files.js": {
              "data": "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",
              "ok": true,
              "headers": [
                [
                  "content-type",
                  "application/javascript"
                ]
              ],
              "status": 200,
              "status_text": ""
            }
          },
          "base_uri": "https://localhost:8080/",
          "height": 140
        },
        "id": "nPAPx_2z98B_",
        "outputId": "17cd347f-4437-4947-ce3a-7ad5b81550ad"
      },
      "source": [
        "from google.colab import files\n",
        "uploaded = files.upload()"
      ],
      "execution_count": 25,
      "outputs": [
        {
          "output_type": "display_data",
          "data": {
            "text/html": [
              "\n",
              "     <input type=\"file\" id=\"files-22509838-30c8-4ef9-88ef-7b8dd664f33a\" name=\"files[]\" multiple disabled\n",
              "        style=\"border:none\" />\n",
              "     <output id=\"result-22509838-30c8-4ef9-88ef-7b8dd664f33a\">\n",
              "      Upload widget is only available when the cell has been executed in the\n",
              "      current browser session. Please rerun this cell to enable.\n",
              "      </output>\n",
              "      <script src=\"/nbextensions/google.colab/files.js\"></script> "
            ],
            "text/plain": [
              "<IPython.core.display.HTML object>"
            ]
          },
          "metadata": {
            "tags": []
          }
        },
        {
          "output_type": "stream",
          "text": [
            "Saving 18incyallnoagi.csv to 18incyallnoagi.csv\n",
            "Saving 18incyallagi.csv to 18incyallagi.csv\n",
            "Saving USA_2020_2021_Apr09.xlsx to USA_2020_2021_Apr09 (1).xlsx\n"
          ],
          "name": "stdout"
        }
      ]
    },
    {
      "cell_type": "code",
      "metadata": {
        "colab": {
          "base_uri": "https://localhost:8080/"
        },
        "id": "-bbleIqcBZ_t",
        "outputId": "5260aeca-9c57-4d7a-9676-0501f4934cfe"
      },
      "source": [
        "!ls"
      ],
      "execution_count": 1,
      "outputs": [
        {
          "output_type": "stream",
          "text": [
            " 18incyallagi.csv     sample_data\t\t      USA_2020_2021_Apr09.xlsx\n",
            " 18incyallnoagi.csv  'USA_2020_2021_Apr09 (1).xlsx'\n"
          ],
          "name": "stdout"
        }
      ]
    },
    {
      "cell_type": "code",
      "metadata": {
        "id": "uR545L4H-Mnr"
      },
      "source": [
        "import pandas as pd\n",
        "protest_data = pd.read_excel('USA_2020_2021_Apr09.xlsx')\n",
        "cdata = pd.read_csv('18incyallnoagi.csv') # county irs data"
      ],
      "execution_count": 48,
      "outputs": []
    },
    {
      "cell_type": "code",
      "metadata": {
        "id": "ynmaBJvkXCPu"
      },
      "source": [
        "# United States of America Python Dictionary to translate States,\n",
        "# Districts & Territories to Two-Letter codes and vice versa.\n",
        "#\n",
        "# https://gist.github.com/rogerallen/1583593\n",
        "#\n",
        "# Dedicated to the public domain.  To the extent possible under law,\n",
        "# Roger Allen has waived all copyright and related or neighboring\n",
        "# rights to this code.\n",
        "\n",
        "us_state_abbrev = {\n",
        "    'Alabama': 'AL',\n",
        "    'Alaska': 'AK',\n",
        "    'American Samoa': 'AS',\n",
        "    'Arizona': 'AZ',\n",
        "    'Arkansas': 'AR',\n",
        "    'California': 'CA',\n",
        "    'Colorado': 'CO',\n",
        "    'Connecticut': 'CT',\n",
        "    'Delaware': 'DE',\n",
        "    'District of Columbia': 'DC',\n",
        "    'Florida': 'FL',\n",
        "    'Georgia': 'GA',\n",
        "    'Guam': 'GU',\n",
        "    'Hawaii': 'HI',\n",
        "    'Idaho': 'ID',\n",
        "    'Illinois': 'IL',\n",
        "    'Indiana': 'IN',\n",
        "    'Iowa': 'IA',\n",
        "    'Kansas': 'KS',\n",
        "    'Kentucky': 'KY',\n",
        "    'Louisiana': 'LA',\n",
        "    'Maine': 'ME',\n",
        "    'Maryland': 'MD',\n",
        "    'Massachusetts': 'MA',\n",
        "    'Michigan': 'MI',\n",
        "    'Minnesota': 'MN',\n",
        "    'Mississippi': 'MS',\n",
        "    'Missouri': 'MO',\n",
        "    'Montana': 'MT',\n",
        "    'Nebraska': 'NE',\n",
        "    'Nevada': 'NV',\n",
        "    'New Hampshire': 'NH',\n",
        "    'New Jersey': 'NJ',\n",
        "    'New Mexico': 'NM',\n",
        "    'New York': 'NY',\n",
        "    'North Carolina': 'NC',\n",
        "    'North Dakota': 'ND',\n",
        "    'Northern Mariana Islands':'MP',\n",
        "    'Ohio': 'OH',\n",
        "    'Oklahoma': 'OK',\n",
        "    'Oregon': 'OR',\n",
        "    'Pennsylvania': 'PA',\n",
        "    'Puerto Rico': 'PR',\n",
        "    'Rhode Island': 'RI',\n",
        "    'South Carolina': 'SC',\n",
        "    'South Dakota': 'SD',\n",
        "    'Tennessee': 'TN',\n",
        "    'Texas': 'TX',\n",
        "    'Utah': 'UT',\n",
        "    'Vermont': 'VT',\n",
        "    'Virgin Islands': 'VI',\n",
        "    'Virginia': 'VA',\n",
        "    'Washington': 'WA',\n",
        "    'West Virginia': 'WV',\n",
        "    'Wisconsin': 'WI',\n",
        "    'Wyoming': 'WY'\n",
        "}\n",
        "\n",
        "# thank you to @kinghelix and @trevormarburger for this idea\n",
        "abbrev_us_state = dict(map(reversed, us_state_abbrev.items()))"
      ],
      "execution_count": 27,
      "outputs": []
    },
    {
      "cell_type": "code",
      "metadata": {
        "id": "fKH4qXIcaG4M"
      },
      "source": [
        "key = 'ADMIN1'\n",
        "protest_data[key] = protest_data[key].apply(lambda x: us_state_abbrev.get(x))"
      ],
      "execution_count": 49,
      "outputs": []
    },
    {
      "cell_type": "code",
      "metadata": {
        "id": "03hUGUfkpM5D"
      },
      "source": [
        "protest_data = protest_data.dropna(axis=0,subset=['ADMIN2'])"
      ],
      "execution_count": 51,
      "outputs": []
    },
    {
      "cell_type": "code",
      "metadata": {
        "id": "WxI2GlTVmvID"
      },
      "source": [
        "key = 'ADMIN2'\n",
        "for i in protest_data.index:\n",
        "  try:\n",
        "    if protest_data.loc[i][key][0:5] == 'Saint':\n",
        "      print(protest_data.loc[i][key][6:])\n",
        "      protest_data.at[i,key] = protest_data.loc[i][key][6:]\n",
        "    if protest_data.loc[i][key] == 'St. Louis City':\n",
        "      protest_data.at[i,key] = 'Louis city'\n",
        "      print(protest_data.loc[i][key])\n",
        "\n",
        "  except:\n",
        "    print(protest_data.loc[i][key])\n",
        "\n",
        "key = 'COUNTYNAME'\n",
        "for i in cdata.index:\n",
        "  if cdata.loc[i][key][0:3] == 'St.':\n",
        "    cdata.at[i,key] = cdata.loc[i][key][4:]\n",
        "    print(cdata.loc[i][key])\n",
        "  # if cdata.loc[i,key].split(' ')[-1][:4] == 'Coun':\n",
        "  #   cdata.at[i,key] = cdata.loc[i,key].split(' ')[:-1]"
      ],
      "execution_count": 59,
      "outputs": []
    },
    {
      "cell_type": "code",
      "metadata": {
        "colab": {
          "base_uri": "https://localhost:8080/"
        },
        "id": "DLw3lRiRoc6c",
        "outputId": "b05e17a1-36a9-4548-cfcb-0423c9f430d1"
      },
      "source": [
        "print(cdata[cdata['STATE'] == 'MO']['COUNTYNAME'])"
      ],
      "execution_count": 60,
      "outputs": [
        {
          "output_type": "stream",
          "text": [
            "1507           Missouri\n",
            "1508       Adair County\n",
            "1509      Andrew County\n",
            "1510    Atchison County\n",
            "1511     Audrain County\n",
            "             ...       \n",
            "1618       Wayne County\n",
            "1619     Webster County\n",
            "1620       Worth County\n",
            "1621      Wright County\n",
            "1622         Louis city\n",
            "Name: COUNTYNAME, Length: 116, dtype: object\n"
          ],
          "name": "stdout"
        }
      ]
    },
    {
      "cell_type": "code",
      "metadata": {
        "id": "KFQCn11xa5Z1"
      },
      "source": [
        "key = 'ADMIN2'\n",
        "protest_data[key] = protest_data[key].apply(lambda x: str(x)[:3])\n",
        "\n",
        "key = 'COUNTYNAME'\n",
        "cdata[key] = cdata[key].apply(lambda x: str(x)[:3])"
      ],
      "execution_count": 61,
      "outputs": []
    },
    {
      "cell_type": "code",
      "metadata": {
        "colab": {
          "base_uri": "https://localhost:8080/",
          "height": 244
        },
        "id": "eJvQ4eQMiCNV",
        "outputId": "b7e502e7-d849-4685-fca1-fc49a761896b"
      },
      "source": [
        "cdata.head()"
      ],
      "execution_count": 62,
      "outputs": [
        {
          "output_type": "execute_result",
          "data": {
            "text/html": [
              "<div>\n",
              "<style scoped>\n",
              "    .dataframe tbody tr th:only-of-type {\n",
              "        vertical-align: middle;\n",
              "    }\n",
              "\n",
              "    .dataframe tbody tr th {\n",
              "        vertical-align: top;\n",
              "    }\n",
              "\n",
              "    .dataframe thead th {\n",
              "        text-align: right;\n",
              "    }\n",
              "</style>\n",
              "<table border=\"1\" class=\"dataframe\">\n",
              "  <thead>\n",
              "    <tr style=\"text-align: right;\">\n",
              "      <th></th>\n",
              "      <th>STATEFIPS</th>\n",
              "      <th>STATE</th>\n",
              "      <th>COUNTYFIPS</th>\n",
              "      <th>COUNTYNAME</th>\n",
              "      <th>AGI_STUB</th>\n",
              "      <th>N1</th>\n",
              "      <th>MARS1</th>\n",
              "      <th>MARS2</th>\n",
              "      <th>MARS4</th>\n",
              "      <th>ELF</th>\n",
              "      <th>CPREP</th>\n",
              "      <th>PREP</th>\n",
              "      <th>DIR_DEP</th>\n",
              "      <th>N2</th>\n",
              "      <th>NUMDEP</th>\n",
              "      <th>TOTAL_VITA</th>\n",
              "      <th>VITA</th>\n",
              "      <th>TCE</th>\n",
              "      <th>VITA_EIC</th>\n",
              "      <th>RAC</th>\n",
              "      <th>ELDERLY</th>\n",
              "      <th>A00100</th>\n",
              "      <th>N02650</th>\n",
              "      <th>A02650</th>\n",
              "      <th>N00200</th>\n",
              "      <th>A00200</th>\n",
              "      <th>N00300</th>\n",
              "      <th>A00300</th>\n",
              "      <th>N00600</th>\n",
              "      <th>A00600</th>\n",
              "      <th>N00650</th>\n",
              "      <th>A00650</th>\n",
              "      <th>N00700</th>\n",
              "      <th>A00700</th>\n",
              "      <th>N00900</th>\n",
              "      <th>A00900</th>\n",
              "      <th>N01000</th>\n",
              "      <th>A01000</th>\n",
              "      <th>N01750</th>\n",
              "      <th>A01750</th>\n",
              "      <th>...</th>\n",
              "      <th>N07225</th>\n",
              "      <th>A07225</th>\n",
              "      <th>N07260</th>\n",
              "      <th>A07260</th>\n",
              "      <th>N09400</th>\n",
              "      <th>A09400</th>\n",
              "      <th>N85770</th>\n",
              "      <th>A85770</th>\n",
              "      <th>N85775</th>\n",
              "      <th>A85775</th>\n",
              "      <th>N09750</th>\n",
              "      <th>A09750</th>\n",
              "      <th>N10600</th>\n",
              "      <th>A10600</th>\n",
              "      <th>N59660</th>\n",
              "      <th>A59660</th>\n",
              "      <th>N59720</th>\n",
              "      <th>A59720</th>\n",
              "      <th>N11070</th>\n",
              "      <th>A11070</th>\n",
              "      <th>N10960</th>\n",
              "      <th>A10960</th>\n",
              "      <th>N11560</th>\n",
              "      <th>A11560</th>\n",
              "      <th>N06500</th>\n",
              "      <th>A06500</th>\n",
              "      <th>N10300</th>\n",
              "      <th>A10300</th>\n",
              "      <th>N85530</th>\n",
              "      <th>A85530</th>\n",
              "      <th>N85300</th>\n",
              "      <th>A85300</th>\n",
              "      <th>N11901</th>\n",
              "      <th>A11901</th>\n",
              "      <th>N11900</th>\n",
              "      <th>A11900</th>\n",
              "      <th>N11902</th>\n",
              "      <th>A11902</th>\n",
              "      <th>N12000</th>\n",
              "      <th>A12000</th>\n",
              "    </tr>\n",
              "  </thead>\n",
              "  <tbody>\n",
              "    <tr>\n",
              "      <th>0</th>\n",
              "      <td>1</td>\n",
              "      <td>AL</td>\n",
              "      <td>0</td>\n",
              "      <td>Ala</td>\n",
              "      <td>0</td>\n",
              "      <td>2062010.0</td>\n",
              "      <td>866700.0</td>\n",
              "      <td>756360.0</td>\n",
              "      <td>394890.0</td>\n",
              "      <td>1869810.0</td>\n",
              "      <td>97990.0</td>\n",
              "      <td>1139390.0</td>\n",
              "      <td>1368530.0</td>\n",
              "      <td>4079460.0</td>\n",
              "      <td>1387360.0</td>\n",
              "      <td>46350.0</td>\n",
              "      <td>30520.0</td>\n",
              "      <td>15820.0</td>\n",
              "      <td>7270.0</td>\n",
              "      <td>401630.0</td>\n",
              "      <td>515520.0</td>\n",
              "      <td>124361450.0</td>\n",
              "      <td>2054840.0</td>\n",
              "      <td>125693998.0</td>\n",
              "      <td>1706830.0</td>\n",
              "      <td>87248133.0</td>\n",
              "      <td>538540.0</td>\n",
              "      <td>969953.0</td>\n",
              "      <td>274940.0</td>\n",
              "      <td>2175917.0</td>\n",
              "      <td>253120.0</td>\n",
              "      <td>1684440.0</td>\n",
              "      <td>282230.0</td>\n",
              "      <td>385171.0</td>\n",
              "      <td>360340.0</td>\n",
              "      <td>3246542.0</td>\n",
              "      <td>238650.0</td>\n",
              "      <td>5421086.0</td>\n",
              "      <td>498490.0</td>\n",
              "      <td>14446144.0</td>\n",
              "      <td>...</td>\n",
              "      <td>567600.0</td>\n",
              "      <td>1059318.0</td>\n",
              "      <td>13250.0</td>\n",
              "      <td>25067.0</td>\n",
              "      <td>252860.0</td>\n",
              "      <td>693275.0</td>\n",
              "      <td>89810.0</td>\n",
              "      <td>806534.0</td>\n",
              "      <td>98010.0</td>\n",
              "      <td>873324.0</td>\n",
              "      <td>33190.0</td>\n",
              "      <td>26196.0</td>\n",
              "      <td>1963700.0</td>\n",
              "      <td>17782443.0</td>\n",
              "      <td>481610.0</td>\n",
              "      <td>1348658.0</td>\n",
              "      <td>440450.0</td>\n",
              "      <td>1208046.0</td>\n",
              "      <td>364920.0</td>\n",
              "      <td>631413.0</td>\n",
              "      <td>124120.0</td>\n",
              "      <td>112554.0</td>\n",
              "      <td>31440.0</td>\n",
              "      <td>25372.0</td>\n",
              "      <td>1275330.0</td>\n",
              "      <td>13092538.0</td>\n",
              "      <td>1419720.0</td>\n",
              "      <td>14112810.0</td>\n",
              "      <td>30280.0</td>\n",
              "      <td>51999.0</td>\n",
              "      <td>39030.0</td>\n",
              "      <td>156011.0</td>\n",
              "      <td>392810.0</td>\n",
              "      <td>1801380.0</td>\n",
              "      <td>1614620.0</td>\n",
              "      <td>5450578.0</td>\n",
              "      <td>1581360.0</td>\n",
              "      <td>4771103.0</td>\n",
              "      <td>41550.0</td>\n",
              "      <td>661254.0</td>\n",
              "    </tr>\n",
              "    <tr>\n",
              "      <th>1</th>\n",
              "      <td>1</td>\n",
              "      <td>AL</td>\n",
              "      <td>1</td>\n",
              "      <td>Aut</td>\n",
              "      <td>0</td>\n",
              "      <td>24360.0</td>\n",
              "      <td>9670.0</td>\n",
              "      <td>10050.0</td>\n",
              "      <td>4020.0</td>\n",
              "      <td>22000.0</td>\n",
              "      <td>1310.0</td>\n",
              "      <td>11060.0</td>\n",
              "      <td>16970.0</td>\n",
              "      <td>49940.0</td>\n",
              "      <td>17170.0</td>\n",
              "      <td>480.0</td>\n",
              "      <td>150.0</td>\n",
              "      <td>310.0</td>\n",
              "      <td>20.0</td>\n",
              "      <td>4750.0</td>\n",
              "      <td>5660.0</td>\n",
              "      <td>1421008.0</td>\n",
              "      <td>24300.0</td>\n",
              "      <td>1433014.0</td>\n",
              "      <td>20560.0</td>\n",
              "      <td>1059239.0</td>\n",
              "      <td>7390.0</td>\n",
              "      <td>7151.0</td>\n",
              "      <td>3030.0</td>\n",
              "      <td>11548.0</td>\n",
              "      <td>2790.0</td>\n",
              "      <td>8518.0</td>\n",
              "      <td>3330.0</td>\n",
              "      <td>3342.0</td>\n",
              "      <td>3750.0</td>\n",
              "      <td>26796.0</td>\n",
              "      <td>2590.0</td>\n",
              "      <td>32160.0</td>\n",
              "      <td>6340.0</td>\n",
              "      <td>194819.0</td>\n",
              "      <td>...</td>\n",
              "      <td>7550.0</td>\n",
              "      <td>15741.0</td>\n",
              "      <td>120.0</td>\n",
              "      <td>196.0</td>\n",
              "      <td>2610.0</td>\n",
              "      <td>6548.0</td>\n",
              "      <td>900.0</td>\n",
              "      <td>7629.0</td>\n",
              "      <td>970.0</td>\n",
              "      <td>8183.0</td>\n",
              "      <td>350.0</td>\n",
              "      <td>261.0</td>\n",
              "      <td>23480.0</td>\n",
              "      <td>171844.0</td>\n",
              "      <td>4870.0</td>\n",
              "      <td>13304.0</td>\n",
              "      <td>4410.0</td>\n",
              "      <td>12008.0</td>\n",
              "      <td>3960.0</td>\n",
              "      <td>6874.0</td>\n",
              "      <td>1450.0</td>\n",
              "      <td>1317.0</td>\n",
              "      <td>320.0</td>\n",
              "      <td>230.0</td>\n",
              "      <td>15890.0</td>\n",
              "      <td>122224.0</td>\n",
              "      <td>17310.0</td>\n",
              "      <td>131036.0</td>\n",
              "      <td>160.0</td>\n",
              "      <td>127.0</td>\n",
              "      <td>270.0</td>\n",
              "      <td>743.0</td>\n",
              "      <td>4640.0</td>\n",
              "      <td>16492.0</td>\n",
              "      <td>19220.0</td>\n",
              "      <td>56946.0</td>\n",
              "      <td>18940.0</td>\n",
              "      <td>54557.0</td>\n",
              "      <td>360.0</td>\n",
              "      <td>2316.0</td>\n",
              "    </tr>\n",
              "    <tr>\n",
              "      <th>2</th>\n",
              "      <td>1</td>\n",
              "      <td>AL</td>\n",
              "      <td>3</td>\n",
              "      <td>Bal</td>\n",
              "      <td>0</td>\n",
              "      <td>100970.0</td>\n",
              "      <td>42240.0</td>\n",
              "      <td>43370.0</td>\n",
              "      <td>12890.0</td>\n",
              "      <td>90270.0</td>\n",
              "      <td>5410.0</td>\n",
              "      <td>50160.0</td>\n",
              "      <td>59960.0</td>\n",
              "      <td>196030.0</td>\n",
              "      <td>58070.0</td>\n",
              "      <td>2020.0</td>\n",
              "      <td>250.0</td>\n",
              "      <td>1770.0</td>\n",
              "      <td>50.0</td>\n",
              "      <td>14910.0</td>\n",
              "      <td>31900.0</td>\n",
              "      <td>6932600.0</td>\n",
              "      <td>100560.0</td>\n",
              "      <td>7022633.0</td>\n",
              "      <td>77300.0</td>\n",
              "      <td>4314569.0</td>\n",
              "      <td>30680.0</td>\n",
              "      <td>59937.0</td>\n",
              "      <td>19140.0</td>\n",
              "      <td>143136.0</td>\n",
              "      <td>17560.0</td>\n",
              "      <td>103446.0</td>\n",
              "      <td>13590.0</td>\n",
              "      <td>19600.0</td>\n",
              "      <td>19570.0</td>\n",
              "      <td>250979.0</td>\n",
              "      <td>17730.0</td>\n",
              "      <td>414734.0</td>\n",
              "      <td>29300.0</td>\n",
              "      <td>961799.0</td>\n",
              "      <td>...</td>\n",
              "      <td>25080.0</td>\n",
              "      <td>53044.0</td>\n",
              "      <td>430.0</td>\n",
              "      <td>874.0</td>\n",
              "      <td>14790.0</td>\n",
              "      <td>45163.0</td>\n",
              "      <td>5750.0</td>\n",
              "      <td>51216.0</td>\n",
              "      <td>6420.0</td>\n",
              "      <td>56565.0</td>\n",
              "      <td>2170.0</td>\n",
              "      <td>1909.0</td>\n",
              "      <td>94020.0</td>\n",
              "      <td>961301.0</td>\n",
              "      <td>17010.0</td>\n",
              "      <td>43576.0</td>\n",
              "      <td>14830.0</td>\n",
              "      <td>37321.0</td>\n",
              "      <td>13030.0</td>\n",
              "      <td>22598.0</td>\n",
              "      <td>4220.0</td>\n",
              "      <td>3823.0</td>\n",
              "      <td>2120.0</td>\n",
              "      <td>2035.0</td>\n",
              "      <td>67430.0</td>\n",
              "      <td>796040.0</td>\n",
              "      <td>74350.0</td>\n",
              "      <td>858857.0</td>\n",
              "      <td>1830.0</td>\n",
              "      <td>3091.0</td>\n",
              "      <td>2620.0</td>\n",
              "      <td>8318.0</td>\n",
              "      <td>24360.0</td>\n",
              "      <td>137644.0</td>\n",
              "      <td>72730.0</td>\n",
              "      <td>237520.0</td>\n",
              "      <td>70150.0</td>\n",
              "      <td>198728.0</td>\n",
              "      <td>3300.0</td>\n",
              "      <td>38792.0</td>\n",
              "    </tr>\n",
              "    <tr>\n",
              "      <th>3</th>\n",
              "      <td>1</td>\n",
              "      <td>AL</td>\n",
              "      <td>5</td>\n",
              "      <td>Bar</td>\n",
              "      <td>0</td>\n",
              "      <td>9050.0</td>\n",
              "      <td>3640.0</td>\n",
              "      <td>2790.0</td>\n",
              "      <td>2490.0</td>\n",
              "      <td>8240.0</td>\n",
              "      <td>390.0</td>\n",
              "      <td>5970.0</td>\n",
              "      <td>5790.0</td>\n",
              "      <td>17900.0</td>\n",
              "      <td>6460.0</td>\n",
              "      <td>90.0</td>\n",
              "      <td>90.0</td>\n",
              "      <td>0.0</td>\n",
              "      <td>20.0</td>\n",
              "      <td>2300.0</td>\n",
              "      <td>2440.0</td>\n",
              "      <td>397058.0</td>\n",
              "      <td>9020.0</td>\n",
              "      <td>400492.0</td>\n",
              "      <td>7510.0</td>\n",
              "      <td>277667.0</td>\n",
              "      <td>2030.0</td>\n",
              "      <td>3044.0</td>\n",
              "      <td>990.0</td>\n",
              "      <td>5746.0</td>\n",
              "      <td>910.0</td>\n",
              "      <td>4592.0</td>\n",
              "      <td>750.0</td>\n",
              "      <td>756.0</td>\n",
              "      <td>1470.0</td>\n",
              "      <td>7461.0</td>\n",
              "      <td>850.0</td>\n",
              "      <td>12440.0</td>\n",
              "      <td>2090.0</td>\n",
              "      <td>52646.0</td>\n",
              "      <td>...</td>\n",
              "      <td>2370.0</td>\n",
              "      <td>3344.0</td>\n",
              "      <td>20.0</td>\n",
              "      <td>33.0</td>\n",
              "      <td>970.0</td>\n",
              "      <td>2104.0</td>\n",
              "      <td>360.0</td>\n",
              "      <td>3126.0</td>\n",
              "      <td>410.0</td>\n",
              "      <td>3548.0</td>\n",
              "      <td>130.0</td>\n",
              "      <td>92.0</td>\n",
              "      <td>8590.0</td>\n",
              "      <td>52592.0</td>\n",
              "      <td>3040.0</td>\n",
              "      <td>9079.0</td>\n",
              "      <td>2840.0</td>\n",
              "      <td>8310.0</td>\n",
              "      <td>2180.0</td>\n",
              "      <td>3692.0</td>\n",
              "      <td>580.0</td>\n",
              "      <td>525.0</td>\n",
              "      <td>100.0</td>\n",
              "      <td>58.0</td>\n",
              "      <td>4780.0</td>\n",
              "      <td>33020.0</td>\n",
              "      <td>5470.0</td>\n",
              "      <td>35972.0</td>\n",
              "      <td>30.0</td>\n",
              "      <td>50.0</td>\n",
              "      <td>60.0</td>\n",
              "      <td>262.0</td>\n",
              "      <td>1370.0</td>\n",
              "      <td>4588.0</td>\n",
              "      <td>7410.0</td>\n",
              "      <td>24417.0</td>\n",
              "      <td>7300.0</td>\n",
              "      <td>23585.0</td>\n",
              "      <td>130.0</td>\n",
              "      <td>670.0</td>\n",
              "    </tr>\n",
              "    <tr>\n",
              "      <th>4</th>\n",
              "      <td>1</td>\n",
              "      <td>AL</td>\n",
              "      <td>7</td>\n",
              "      <td>Bib</td>\n",
              "      <td>0</td>\n",
              "      <td>7830.0</td>\n",
              "      <td>2980.0</td>\n",
              "      <td>3160.0</td>\n",
              "      <td>1540.0</td>\n",
              "      <td>7020.0</td>\n",
              "      <td>400.0</td>\n",
              "      <td>4440.0</td>\n",
              "      <td>5400.0</td>\n",
              "      <td>16400.0</td>\n",
              "      <td>5810.0</td>\n",
              "      <td>30.0</td>\n",
              "      <td>30.0</td>\n",
              "      <td>0.0</td>\n",
              "      <td>0.0</td>\n",
              "      <td>1750.0</td>\n",
              "      <td>1760.0</td>\n",
              "      <td>403044.0</td>\n",
              "      <td>7800.0</td>\n",
              "      <td>405944.0</td>\n",
              "      <td>6620.0</td>\n",
              "      <td>296969.0</td>\n",
              "      <td>1560.0</td>\n",
              "      <td>1594.0</td>\n",
              "      <td>500.0</td>\n",
              "      <td>1776.0</td>\n",
              "      <td>430.0</td>\n",
              "      <td>1207.0</td>\n",
              "      <td>790.0</td>\n",
              "      <td>797.0</td>\n",
              "      <td>1190.0</td>\n",
              "      <td>7047.0</td>\n",
              "      <td>460.0</td>\n",
              "      <td>8172.0</td>\n",
              "      <td>1640.0</td>\n",
              "      <td>40186.0</td>\n",
              "      <td>...</td>\n",
              "      <td>2370.0</td>\n",
              "      <td>4612.0</td>\n",
              "      <td>70.0</td>\n",
              "      <td>114.0</td>\n",
              "      <td>870.0</td>\n",
              "      <td>1707.0</td>\n",
              "      <td>270.0</td>\n",
              "      <td>2554.0</td>\n",
              "      <td>290.0</td>\n",
              "      <td>2680.0</td>\n",
              "      <td>150.0</td>\n",
              "      <td>94.0</td>\n",
              "      <td>7450.0</td>\n",
              "      <td>46630.0</td>\n",
              "      <td>2040.0</td>\n",
              "      <td>5768.0</td>\n",
              "      <td>1880.0</td>\n",
              "      <td>5198.0</td>\n",
              "      <td>1570.0</td>\n",
              "      <td>2776.0</td>\n",
              "      <td>330.0</td>\n",
              "      <td>306.0</td>\n",
              "      <td>90.0</td>\n",
              "      <td>42.0</td>\n",
              "      <td>4740.0</td>\n",
              "      <td>35250.0</td>\n",
              "      <td>5320.0</td>\n",
              "      <td>37474.0</td>\n",
              "      <td>0.0</td>\n",
              "      <td>0.0</td>\n",
              "      <td>40.0</td>\n",
              "      <td>75.0</td>\n",
              "      <td>1250.0</td>\n",
              "      <td>8637.0</td>\n",
              "      <td>6370.0</td>\n",
              "      <td>19927.0</td>\n",
              "      <td>6300.0</td>\n",
              "      <td>19071.0</td>\n",
              "      <td>80.0</td>\n",
              "      <td>779.0</td>\n",
              "    </tr>\n",
              "  </tbody>\n",
              "</table>\n",
              "<p>5 rows × 154 columns</p>\n",
              "</div>"
            ],
            "text/plain": [
              "   STATEFIPS STATE  COUNTYFIPS  ...     A11902   N12000    A12000\n",
              "0          1    AL           0  ...  4771103.0  41550.0  661254.0\n",
              "1          1    AL           1  ...    54557.0    360.0    2316.0\n",
              "2          1    AL           3  ...   198728.0   3300.0   38792.0\n",
              "3          1    AL           5  ...    23585.0    130.0     670.0\n",
              "4          1    AL           7  ...    19071.0     80.0     779.0\n",
              "\n",
              "[5 rows x 154 columns]"
            ]
          },
          "metadata": {
            "tags": []
          },
          "execution_count": 62
        }
      ]
    },
    {
      "cell_type": "code",
      "metadata": {
        "colab": {
          "base_uri": "https://localhost:8080/"
        },
        "id": "aEp2p4Efc3QN",
        "outputId": "84f53fb1-04cc-419f-eacd-6691a56797fd"
      },
      "source": [
        "n1 = []\n",
        "agi = []\n",
        "for i in protest_data.index:\n",
        "  try:\n",
        "    n1.append(cdata[(protest_data.loc[i]['ADMIN1'] == cdata['STATE']) & (protest_data.loc[i]['ADMIN2'] == cdata['COUNTYNAME']) & (cdata['COUNTYFIPS'] != 0)]['N1'].values[0])\n",
        "    agi.append(cdata[(protest_data.loc[i]['ADMIN1'] == cdata['STATE']) & (protest_data.loc[i]['ADMIN2'] == cdata['COUNTYNAME']) & (cdata['COUNTYFIPS'] != 0)]['A00100'].values[0])\n",
        "  except:\n",
        "    print(protest_data.loc[i]['ADMIN1'], protest_data.loc[i]['ADMIN2'])\n",
        "    n1.append(0)\n",
        "    agi.append(0)"
      ],
      "execution_count": 63,
      "outputs": [
        {
          "output_type": "stream",
          "text": [
            "LA La \n",
            "LA La \n",
            "MO  Ge\n"
          ],
          "name": "stdout"
        }
      ]
    },
    {
      "cell_type": "code",
      "metadata": {
        "colab": {
          "base_uri": "https://localhost:8080/",
          "height": 126
        },
        "id": "WlC5KPYZgT4s",
        "outputId": "c97fb226-71cb-44de-f1cc-9fd972ef94a9"
      },
      "source": [
        "cdata[(protest_data.loc[i]['ADMIN1'] == cdata['STATE']) & (protest_data.loc[i]['ADMIN2'] == cdata['COUNTYNAME'])]"
      ],
      "execution_count": 64,
      "outputs": [
        {
          "output_type": "execute_result",
          "data": {
            "text/html": [
              "<div>\n",
              "<style scoped>\n",
              "    .dataframe tbody tr th:only-of-type {\n",
              "        vertical-align: middle;\n",
              "    }\n",
              "\n",
              "    .dataframe tbody tr th {\n",
              "        vertical-align: top;\n",
              "    }\n",
              "\n",
              "    .dataframe thead th {\n",
              "        text-align: right;\n",
              "    }\n",
              "</style>\n",
              "<table border=\"1\" class=\"dataframe\">\n",
              "  <thead>\n",
              "    <tr style=\"text-align: right;\">\n",
              "      <th></th>\n",
              "      <th>STATEFIPS</th>\n",
              "      <th>STATE</th>\n",
              "      <th>COUNTYFIPS</th>\n",
              "      <th>COUNTYNAME</th>\n",
              "      <th>AGI_STUB</th>\n",
              "      <th>N1</th>\n",
              "      <th>MARS1</th>\n",
              "      <th>MARS2</th>\n",
              "      <th>MARS4</th>\n",
              "      <th>ELF</th>\n",
              "      <th>CPREP</th>\n",
              "      <th>PREP</th>\n",
              "      <th>DIR_DEP</th>\n",
              "      <th>N2</th>\n",
              "      <th>NUMDEP</th>\n",
              "      <th>TOTAL_VITA</th>\n",
              "      <th>VITA</th>\n",
              "      <th>TCE</th>\n",
              "      <th>VITA_EIC</th>\n",
              "      <th>RAC</th>\n",
              "      <th>ELDERLY</th>\n",
              "      <th>A00100</th>\n",
              "      <th>N02650</th>\n",
              "      <th>A02650</th>\n",
              "      <th>N00200</th>\n",
              "      <th>A00200</th>\n",
              "      <th>N00300</th>\n",
              "      <th>A00300</th>\n",
              "      <th>N00600</th>\n",
              "      <th>A00600</th>\n",
              "      <th>N00650</th>\n",
              "      <th>A00650</th>\n",
              "      <th>N00700</th>\n",
              "      <th>A00700</th>\n",
              "      <th>N00900</th>\n",
              "      <th>A00900</th>\n",
              "      <th>N01000</th>\n",
              "      <th>A01000</th>\n",
              "      <th>N01750</th>\n",
              "      <th>A01750</th>\n",
              "      <th>...</th>\n",
              "      <th>N07225</th>\n",
              "      <th>A07225</th>\n",
              "      <th>N07260</th>\n",
              "      <th>A07260</th>\n",
              "      <th>N09400</th>\n",
              "      <th>A09400</th>\n",
              "      <th>N85770</th>\n",
              "      <th>A85770</th>\n",
              "      <th>N85775</th>\n",
              "      <th>A85775</th>\n",
              "      <th>N09750</th>\n",
              "      <th>A09750</th>\n",
              "      <th>N10600</th>\n",
              "      <th>A10600</th>\n",
              "      <th>N59660</th>\n",
              "      <th>A59660</th>\n",
              "      <th>N59720</th>\n",
              "      <th>A59720</th>\n",
              "      <th>N11070</th>\n",
              "      <th>A11070</th>\n",
              "      <th>N10960</th>\n",
              "      <th>A10960</th>\n",
              "      <th>N11560</th>\n",
              "      <th>A11560</th>\n",
              "      <th>N06500</th>\n",
              "      <th>A06500</th>\n",
              "      <th>N10300</th>\n",
              "      <th>A10300</th>\n",
              "      <th>N85530</th>\n",
              "      <th>A85530</th>\n",
              "      <th>N85300</th>\n",
              "      <th>A85300</th>\n",
              "      <th>N11901</th>\n",
              "      <th>A11901</th>\n",
              "      <th>N11900</th>\n",
              "      <th>A11900</th>\n",
              "      <th>N11902</th>\n",
              "      <th>A11902</th>\n",
              "      <th>N12000</th>\n",
              "      <th>A12000</th>\n",
              "    </tr>\n",
              "  </thead>\n",
              "  <tbody>\n",
              "    <tr>\n",
              "      <th>63</th>\n",
              "      <td>1</td>\n",
              "      <td>AL</td>\n",
              "      <td>125</td>\n",
              "      <td>Tus</td>\n",
              "      <td>0</td>\n",
              "      <td>83000.0</td>\n",
              "      <td>36730.0</td>\n",
              "      <td>27470.0</td>\n",
              "      <td>16970.0</td>\n",
              "      <td>74850.0</td>\n",
              "      <td>3740.0</td>\n",
              "      <td>41560.0</td>\n",
              "      <td>55630.0</td>\n",
              "      <td>160770.0</td>\n",
              "      <td>56040.0</td>\n",
              "      <td>1970.0</td>\n",
              "      <td>1310.0</td>\n",
              "      <td>660.0</td>\n",
              "      <td>480.0</td>\n",
              "      <td>16940.0</td>\n",
              "      <td>18600.0</td>\n",
              "      <td>5033282.0</td>\n",
              "      <td>82790.0</td>\n",
              "      <td>5084217.0</td>\n",
              "      <td>70800.0</td>\n",
              "      <td>3521527.0</td>\n",
              "      <td>21120.0</td>\n",
              "      <td>37476.0</td>\n",
              "      <td>10400.0</td>\n",
              "      <td>83949.0</td>\n",
              "      <td>9560.0</td>\n",
              "      <td>65522.0</td>\n",
              "      <td>11510.0</td>\n",
              "      <td>16252.0</td>\n",
              "      <td>13520.0</td>\n",
              "      <td>87357.0</td>\n",
              "      <td>8880.0</td>\n",
              "      <td>214734.0</td>\n",
              "      <td>18380.0</td>\n",
              "      <td>537491.0</td>\n",
              "      <td>...</td>\n",
              "      <td>23580.0</td>\n",
              "      <td>43700.0</td>\n",
              "      <td>710.0</td>\n",
              "      <td>1463.0</td>\n",
              "      <td>8470.0</td>\n",
              "      <td>24279.0</td>\n",
              "      <td>2860.0</td>\n",
              "      <td>21532.0</td>\n",
              "      <td>3190.0</td>\n",
              "      <td>23705.0</td>\n",
              "      <td>1200.0</td>\n",
              "      <td>931.0</td>\n",
              "      <td>79500.0</td>\n",
              "      <td>719045.0</td>\n",
              "      <td>19200.0</td>\n",
              "      <td>54280.0</td>\n",
              "      <td>17790.0</td>\n",
              "      <td>50661.0</td>\n",
              "      <td>14660.0</td>\n",
              "      <td>25429.0</td>\n",
              "      <td>5810.0</td>\n",
              "      <td>5261.0</td>\n",
              "      <td>980.0</td>\n",
              "      <td>703.0</td>\n",
              "      <td>51490.0</td>\n",
              "      <td>537664.0</td>\n",
              "      <td>55780.0</td>\n",
              "      <td>574525.0</td>\n",
              "      <td>1110.0</td>\n",
              "      <td>1876.0</td>\n",
              "      <td>1570.0</td>\n",
              "      <td>6662.0</td>\n",
              "      <td>15520.0</td>\n",
              "      <td>80516.0</td>\n",
              "      <td>65570.0</td>\n",
              "      <td>223047.0</td>\n",
              "      <td>63980.0</td>\n",
              "      <td>189235.0</td>\n",
              "      <td>1980.0</td>\n",
              "      <td>33813.0</td>\n",
              "    </tr>\n",
              "  </tbody>\n",
              "</table>\n",
              "<p>1 rows × 154 columns</p>\n",
              "</div>"
            ],
            "text/plain": [
              "    STATEFIPS STATE  COUNTYFIPS COUNTYNAME  ...   N11902    A11902  N12000   A12000\n",
              "63          1    AL         125        Tus  ...  63980.0  189235.0  1980.0  33813.0\n",
              "\n",
              "[1 rows x 154 columns]"
            ]
          },
          "metadata": {
            "tags": []
          },
          "execution_count": 64
        }
      ]
    },
    {
      "cell_type": "code",
      "metadata": {
        "id": "nSt5lljmyG7i"
      },
      "source": [
        "protest_data['N1'] = n1\n",
        "protest_data['AGI'] = agi"
      ],
      "execution_count": 65,
      "outputs": []
    },
    {
      "cell_type": "code",
      "metadata": {
        "id": "4k4wNaL3y2sy"
      },
      "source": [
        "protest_data['agiDn1'] = protest_data['AGI']/protest_data['N1']"
      ],
      "execution_count": 70,
      "outputs": []
    },
    {
      "cell_type": "code",
      "metadata": {
        "colab": {
          "base_uri": "https://localhost:8080/"
        },
        "id": "j0akjmtAEs4J",
        "outputId": "13658c7c-1ba6-47fd-d4cb-9ddddeacd58d"
      },
      "source": [
        "print(protest_data['SUB_EVENT_TYPE'].unique())"
      ],
      "execution_count": 71,
      "outputs": [
        {
          "output_type": "stream",
          "text": [
            "['Peaceful protest' 'Other' 'Protest with intervention'\n",
            " 'Change to group/activity' 'Arrests' 'Attack' 'Mob violence'\n",
            " 'Looting/property destruction' 'Excessive force against protesters'\n",
            " 'Violent demonstration' 'Disrupted weapons use' 'Armed clash'\n",
            " 'Sexual violence' 'Remote explosive/landmine/IED' 'Suicide bomb'\n",
            " 'Grenade']\n"
          ],
          "name": "stdout"
        }
      ]
    },
    {
      "cell_type": "code",
      "metadata": {
        "id": "4RZ8YcENzE_E"
      },
      "source": [
        "q = []\n",
        "p = []\n",
        "r = []\n",
        "for s in protest_data['ADMIN1'].unique():\n",
        "  for c in protest_data[protest_data['ADMIN1'] == s]['ADMIN2'].unique():\n",
        "    t = protest_data[(protest_data['ADMIN1'] == s) & (protest_data['ADMIN2'] == c)]['SUB_EVENT_TYPE']\n",
        "    try:\n",
        "      x = t.value_counts()['Peaceful protest']/len(t)\n",
        "      z = len(t)\n",
        "      # print(x)\n",
        "      y = cdata[(s == cdata['STATE']) & (c == cdata['COUNTYNAME']) & (cdata['COUNTYFIPS'] != 0)]['A00100'].values[0]/cdata[(s == cdata['STATE']) & (c == cdata['COUNTYNAME']) & (cdata['COUNTYFIPS'] != 0)]['N1'].values[0]\n",
        "      # print(y)\n",
        "      # print(x)\n",
        "      q.append(x)\n",
        "      p.append(y)\n",
        "      r.append(z)\n",
        "    except:\n",
        "      pass"
      ],
      "execution_count": 130,
      "outputs": []
    },
    {
      "cell_type": "code",
      "metadata": {
        "colab": {
          "base_uri": "https://localhost:8080/",
          "height": 819
        },
        "id": "azFDbiNa21ah",
        "outputId": "7965fed3-1b35-49ec-a3b0-f222c23a95ad"
      },
      "source": [
        "import matplotlib.pyplot as plt\n",
        "plt.scatter(p,q, s=1)\n",
        "plt.ylabel('Fraction of protests that are peaceful')\n",
        "plt.xlabel('Adjusted gross income per capita')\n",
        "# plt.xlim((0,2e8))\n",
        "plt.ylim(0,1)\n",
        "plt.xscale('log')\n",
        "\n",
        "plt.figure()\n",
        "plt.scatter(p,r, s=1)\n",
        "plt.ylabel('Number of protest actions')\n",
        "plt.xlabel('Adjusted gross income per capita')\n",
        "plt.yscale('log')\n",
        "plt.xscale('log')\n",
        "\n",
        "plt.figure()\n",
        "plt.scatter(q,r, s=1)\n",
        "plt.ylabel('Number of protest actions')\n",
        "plt.xlabel('Fraction of protests that are peaceful')\n",
        "plt.yscale('log')\n",
        "plt.xscale('log')"
      ],
      "execution_count": 135,
      "outputs": [
        {
          "output_type": "display_data",
          "data": {
            "image/png": "[encoded data removed]",
            "text/plain": [
              "<Figure size 432x288 with 1 Axes>"
            ]
          },
          "metadata": {
            "tags": [],
            "needs_background": "light"
          }
        },
        {
          "output_type": "display_data",
          "data": {
            "image/png": "[encoded data removed]",
            "text/plain": [
              "<Figure size 432x288 with 1 Axes>"
            ]
          },
          "metadata": {
            "tags": [],
            "needs_background": "light"
          }
        },
        {
          "output_type": "display_data",
          "data": {
            "image/png": "[encoded data removed]",
            "text/plain": [
              "<Figure size 432x288 with 1 Axes>"
            ]
          },
          "metadata": {
            "tags": [],
            "needs_background": "light"
          }
        }
      ]
    },
    {
      "cell_type": "code",
      "metadata": {
        "colab": {
          "base_uri": "https://localhost:8080/"
        },
        "id": "Uup2f8Dx1WHq",
        "outputId": "db683ea5-07db-451f-830b-09f432a0f87c"
      },
      "source": [
        "protest_data[(protest_data['ADMIN1'] == s) & (protest_data['ADMIN2'] == c)]['SUB_EVENT_TYPE'].value_counts()"
      ],
      "execution_count": 78,
      "outputs": [
        {
          "output_type": "execute_result",
          "data": {
            "text/plain": [
              "2"
            ]
          },
          "metadata": {
            "tags": []
          },
          "execution_count": 78
        }
      ]
    },
    {
      "cell_type": "code",
      "metadata": {
        "id": "oJdq7UOYDu8I"
      },
      "source": [
        "# This is not necessary since the county data is already in the protest data, only need to do a lookup on that data that's already there! :)\n",
        "# # county_fips_np = [] # not classified as peaceful\n",
        "# for i in protest_data[protest_data['SUB_EVENT_TYPE'] != 'Peaceful protest'].index[]:\n",
        "#   (lat,lon) = protest_data.loc[i,['LATITUDE','LONGITUDE']]\n",
        "#   # print(lat, lon)\n",
        "#   county_fips_np.append( requests.get('https://geo.fcc.gov/api/census/block/find?latitude={}&longitude={}&format=json'.format(lat, lon)).json()['County']['FIPS'])\n",
        "# print(county_fips)\n",
        "# # fips is divided into two digits for state and then three digits for the county in that state"
      ],
      "execution_count": 66,
      "outputs": []
    },
    {
      "cell_type": "code",
      "metadata": {
        "colab": {
          "base_uri": "https://localhost:8080/"
        },
        "id": "Qel1QgBdFQE4",
        "outputId": "b95791e6-a9c2-41d4-a547-f524d5742173"
      },
      "source": [
        "sFIPS = [int(x[0:2]) for x in county_fips]\n",
        "cFIPS = [int(x[2:]) for x in county_fips]\n",
        "\n",
        "print(sFIPS)\n",
        "print(cFIPS)\n",
        "x = cdata.query('STATEFIPS == @sFIPS[0] & COUNTYFIPS == @cFIPS[0]')['A00100']\n",
        "\n",
        "print(x[x.index[0]])"
      ],
      "execution_count": 65,
      "outputs": [
        {
          "output_type": "stream",
          "text": [
            "[8, 11, 48, 51, 4, 6, 55, 37, 53, 25, 51, 6, 51, 13, 32, 5, 6, 29, 24, 49, 48, 36, 36, 11, 53, 19, 12, 5, 11, 36, 11, 36, 12, 48, 41, 12, 53, 35, 53, 32, 36, 17, 24, 6, 24, 26, 36, 6, 37, 26, 36, 53, 48, 6, 51, 36, 32, 26, 6, 6, 11, 25, 53, 55, 12, 4, 6, 8, 53, 6, 27, 47, 51, 1, 12, 53, 48, 17, 53, 48, 4, 12, 12, 48, 48, 36, 6, 11, 26, 17, 45, 51, 51, 35, 6, 42, 51, 51, 12, 48, 26, 54, 39, 53, 37, 37, 20, 48, 24, 21, 24, 51, 51, 6, 51, 1, 18, 28, 41, 39, 17, 36, 25, 55, 6, 6, 35, 12, 35, 27, 34, 4, 6, 36, 51, 22, 39, 17, 15, 22, 48, 35, 41, 53, 55, 9, 25, 54, 10, 29, 22, 26, 18, 22, 16, 48, 27, 30, 8, 16, 13, 33, 17, 36, 50, 44, 17, 36, 37, 2, 17, 17, 36, 24, 51, 37, 20, 35, 37, 26, 4, 26, 11, 42, 30, 53, 32, 45, 23, 4, 47, 48, 13, 28, 53, 12, 1, 37, 17, 22, 29, 6, 45, 12, 53, 22, 6, 20, 37, 37, 48, 34, 12, 17, 6, 42, 34, 6, 6, 17, 12, 22, 16, 49, 16, 16, 4, 11, 6, 35, 6, 35, 48, 29, 6, 8, 48, 37, 12, 26, 53, 8, 6, 6, 6, 48, 17, 15, 1, 17, 22, 37, 16, 48, 13, 48, 37, 13, 28, 6, 18, 39, 36, 16, 12, 25, 6, 26, 26, 35, 33, 4, 47, 6, 26, 47, 47, 1, 28, 55, 13, 48, 42, 6, 12, 4, 17, 27, 27, 6, 12, 18, 6, 47, 27, 27, 6, 35, 39, 27, 27, 27, 27, 27, 29, 27, 27, 27, 17, 27, 21, 4, 36, 27, 8, 27, 6, 24, 39, 39, 36, 6, 51, 27, 36, 32, 36, 36, 27, 31, 37, 26, 27, 48, 41, 21, 48, 6, 27, 6, 4, 36, 18, 18, 55, 27, 29, 41, 6, 53, 25, 48, 13, 6, 17, 39, 48, 19, 26, 21, 6, 29, 8, 31, 11, 35, 48, 6, 42, 45, 1, 6, 6, 36, 32, 53, 36, 6, 41, 36, 39, 29, 40, 12, 51, 11, 39, 42, 47, 13, 8, 5, 12, 37, 42, 21, 13, 42, 4, 41, 29, 39, 38, 31, 17, 36, 45, 37, 47, 6, 36, 42, 47, 37, 48, 47, 34, 6, 32, 6, 6, 4, 49, 29, 17, 48, 8, 6, 18, 48, 18, 8, 18, 13, 21, 55, 49, 27, 18, 40, 31, 16, 32, 12, 13, 12, 36, 39, 6, 27, 4, 6, 41, 12, 27, 53, 37, 47, 17, 37, 6, 55, 6, 9, 20, 33, 41, 19, 31, 6, 22, 45, 47, 53, 55, 36, 6, 41, 48, 39, 39, 6, 35, 48, 39, 48, 12, 19, 26, 29, 26, 55, 42, 17, 29, 51, 12, 28, 49, 53, 42, 32, 13, 39, 10, 17, 24, 36, 39, 45, 39, 20, 6, 45, 4, 36, 4, 36, 27, 31, 49, 51, 42, 29, 48, 55, 36, 10, 6, 1, 51, 36, 36, 37, 54, 37, 51, 13, 37, 51, 45, 37, 53, 19, 6, 40, 6, 18, 53, 6, 47, 53, 12, 1, 1, 19, 47, 45, 17, 6, 6, 13, 6, 21, 53, 53, 26, 29, 17, 53, 17, 6, 17, 48, 8, 8, 45, 10, 5, 48, 29, 6, 18, 16, 42, 41, 6, 6, 54, 8, 55, 39, 37, 39, 37, 27, 31, 48, 9, 39, 31, 42, 46, 42, 11, 26, 51, 12, 13, 18, 46, 26, 37, 45, 34, 47, 17, 35, 51, 11, 34, 51, 39, 13, 13, 20, 55, 55, 55, 31, 48, 42, 12, 16, 12, 47, 4, 6, 53, 47, 51, 45, 37, 37, 6, 55, 4, 5, 51, 19, 6, 29, 55, 4, 6, 6, 55, 12, 6, 17, 25, 19, 12, 17, 42, 9, 12, 26, 37, 6, 37, 18, 17, 40, 5, 46, 6, 26, 12, 17, 5, 6, 12, 32, 54, 55, 12, 12, 6, 55, 24, 6, 39, 40, 13, 12, 41, 42, 18, 41, 39, 17, 19, 19, 34, 41, 49, 17, 18, 6, 21, 36, 48, 6, 51, 1, 13, 6, 19, 27, 18, 37, 48, 53, 17, 25, 29, 51, 37, 39, 42, 53, 13, 51, 5, 48, 37, 6, 22, 6, 17, 18, 21, 6, 20, 11, 37, 6, 35, 37, 36, 42, 15, 37, 37, 25, 16, 6, 26, 39, 6, 4, 37, 32, 6, 5, 23, 24, 37, 41, 36, 48, 39, 6, 8, 6, 18, 21, 39, 42, 36, 41, 51, 29, 49, 53, 53, 45, 18, 51, 53, 6, 51, 51, 37, 26, 21, 5, 20, 6, 6, 36, 37, 31, 36, 34, 25, 35, 39, 55, 12, 6, 53, 6, 17, 12, 51, 19, 1, 41, 29, 6, 53, 6, 11, 25, 36, 40, 25, 51, 1, 6, 42, 47, 44, 37, 6, 6, 12, 35, 51, 6, 21, 6, 44, 1, 48, 11, 5, 6, 6, 51, 26, 39, 6, 6, 48, 25, 25, 8, 6, 51, 19, 16, 36, 36, 36, 53, 42, 42, 41, 23, 53, 53, 37, 35, 13, 17, 40, 41, 46, 21, 50, 18, 53, 4, 11, 11, 26, 32, 32, 36, 33, 36, 17, 19, 26, 5, 29, 20, 37, 55, 40, 31, 44, 48, 6, 19, 37, 12, 12, 20, 6, 6, 29, 36, 12, 16, 22, 6, 4, 6, 6, 50, 6, 29, 11, 56, 19, 36, 39, 13, 6, 36, 40, 55, 37, 35, 35, 53, 37, 36, 36, 1, 12, 19, 6, 23, 19, 17, 53, 12, 42, 6, 39, 6, 39, 47, 8, 38, 13, 35, 6, 41, 48, 12, 6, 6, 36, 16, 8, 37, 1, 8, 6, 17, 18, 53, 16, 6, 29, 5, 53, 56, 53, 6, 19, 27, 6, 6, 32, 1, 13, 27, 6, 32, 4, 12, 36, 36, 12, 36, 51, 51, 30, 6, 16, 6, 6, 47, 4, 4, 17, 36, 36, 42, 41, 56, 30, 36, 53, 48, 41, 41, 42, 6, 41, 28, 47, 53, 41, 37, 48, 53, 16, 40, 51, 36, 8, 42, 20, 30, 44, 41, 26, 53, 6, 1, 41, 6, 6, 53, 23, 12, 12, 12, 42, 6, 26, 11, 32, 51, 32, 13, 41, 53, 6, 37, 6, 6, 9, 36, 53, 41, 6, 53, 53, 37, 45, 18, 20, 36, 23, 10, 51, 6, 10, 12, 51, 51, 6, 27, 53, 39, 41, 25, 41, 34, 51, 23, 48, 6, 26, 6, 6, 13, 6, 6, 36, 51, 42, 48, 13, 47, 22, 45, 41, 41, 21, 32, 41, 6, 13, 18, 51, 42, 39, 41, 27, 21, 41, 35, 18, 51, 47, 48, 13, 45, 47, 22, 13, 48, 53, 22, 51, 21, 45, 41, 37, 12, 6, 53, 21, 39, 37, 48, 47, 36, 41, 37, 41, 6, 6, 6, 11, 12, 21, 51, 48, 37, 29, 41, 19, 16, 40, 6, 37, 6, 53, 53, 48, 53, 13, 51, 41, 51, 6, 41, 39, 12, 29, 53, 37, 51, 36, 19, 55, 6, 45, 51, 51, 19, 17, 11, 48, 47, 4, 1, 36, 11, 42, 55, 55, 29, 4, 53, 11, 39, 51, 9, 55, 11, 42, 37, 42, 37, 47, 56, 37, 8, 29, 37, 6, 51, 41, 47, 41, 48, 37, 51, 6, 6, 37, 11, 39, 8, 13, 8, 41, 37, 4, 29, 47, 41, 48, 12, 37, 21, 26, 29, 29, 17, 34, 6, 36, 6, 41, 11, 41, 21, 6, 29, 17, 41, 6, 17, 53, 48, 21, 55, 39, 53, 20, 21, 24, 41, 37, 39, 6, 41, 8, 47, 37, 53, 21, 51, 12, 36, 19, 55, 53, 41, 53, 41, 35, 11, 42, 41, 37, 46, 53, 24, 36, 6, 17, 13, 9, 36, 34, 6, 6, 34, 47, 34, 13, 1, 41, 8, 29, 53, 53, 47, 18, 4, 24, 11, 41, 53, 42, 47, 12, 6, 37, 53, 18, 21, 12, 9, 18, 45, 13, 29, 53, 8, 55, 29, 18, 36, 4, 13, 21, 41, 13, 55, 47, 25, 41, 11, 37, 42, 41, 39, 21, 6, 21, 37, 41, 49, 49, 29, 6, 26, 29, 41, 49, 12, 13, 4, 4, 20, 37, 47, 12, 9, 36, 41, 37, 21, 47, 36, 17, 5, 18, 36, 47, 53, 36, 41, 44, 45, 29, 26, 41, 35, 13, 21, 41, 6, 29, 51, 42, 41, 36, 12, 22, 36, 51, 41, 6, 41, 26, 29, 17, 6, 41, 51, 48, 8, 5, 36, 4, 37, 51, 47, 13, 12, 41, 41, 42, 35, 36, 34, 8, 53, 41, 12, 18, 29, 36, 17, 12, 18, 41, 26, 40, 6, 6, 41, 6, 37, 29, 39, 51, 41, 6, 37, 17, 35, 53, 36, 26, 42, 36, 44, 37, 53, 6, 44, 26, 41, 8, 9, 37, 42, 21, 21, 41, 42, 29, 20, 39, 41, 41, 4, 48, 13, 37, 51, 47, 20, 8, 53, 6, 36, 44, 47, 37, 31, 27, 37, 8, 6, 6, 48, 37, 6, 48, 21, 41, 1, 48, 41, 41, 26, 42, 51, 4, 41, 6, 37, 36, 6, 1, 1, 37, 41, 37, 24, 41, 36, 8, 6, 41, 37, 41, 26, 26, 39, 55, 4, 41, 22, 51, 36, 37, 35, 29, 29, 41, 41, 20, 47, 36, 42, 6, 35, 17, 13, 41, 23, 17, 6, 6, 42, 6, 16, 48, 55, 53, 41, 11, 48, 4, 6, 13, 49, 5, 22, 6, 12, 16, 41, 39, 53, 41, 4, 42, 41, 41, 8, 35, 6, 42, 42, 41, 6, 13, 17, 12, 12, 41, 32, 21, 41, 21, 8, 13, 20, 13, 8, 16, 17, 55, 9, 6, 48, 12, 48, 37, 4, 29, 48, 6, 55, 53, 37, 21, 41, 17, 17, 47, 56, 21, 46, 25, 41, 51, 12, 35, 12, 6, 18]\n",
            "[31, 1, 457, 97, 23, 1, 79, 183, 67, 21, 760, 85, 63, 115, 3, 143, 73, 510, 33, 49, 201, 61, 61, 1, 33, 153, 86, 45, 1, 61, 1, 47, 69, 427, 51, 31, 5, 1, 17, 3, 1, 31, 5, 87, 3, 161, 109, 37, 21, 163, 81, 33, 61, 37, 515, 61, 510, 49, 37, 13, 1, 21, 33, 79, 71, 13, 37, 41, 33, 59, 53, 93, 143, 89, 86, 33, 221, 31, 33, 339, 13, 53, 97, 453, 167, 47, 87, 1, 163, 31, 91, 680, 810, 13, 37, 101, 9, 620, 11, 453, 163, 39, 113, 67, 183, 183, 177, 29, 3, 111, 31, 135, 678, 37, 125, 103, 97, 75, 51, 49, 167, 1, 25, 25, 67, 67, 6, 73, 15, 123, 21, 19, 19, 1, 113, 33, 49, 167, 3, 59, 163, 49, 47, 67, 25, 3, 25, 39, 1, 37, 39, 65, 97, 59, 1, 201, 123, 49, 31, 45, 259, 13, 111, 71, 23, 7, 111, 5, 81, 110, 113, 95, 71, 3, 760, 183, 177, 1, 81, 65, 13, 81, 1, 43, 49, 67, 510, 79, 11, 13, 37, 453, 121, 49, 67, 73, 101, 119, 115, 17, 51, 37, 79, 86, 61, 3, 73, 103, 183, 183, 201, 23, 83, 31, 1, 55, 39, 59, 1, 167, 119, 51, 55, 35, 1, 1, 19, 1, 37, 1, 37, 61, 453, 183, 73, 31, 453, 183, 57, 65, 53, 69, 67, 73, 75, 453, 31, 3, 73, 31, 25, 67, 1, 135, 127, 135, 183, 127, 51, 59, 97, 29, 61, 1, 86, 27, 19, 81, 81, 57, 13, 17, 37, 29, 81, 65, 157, 53, 93, 105, 127, 355, 45, 59, 86, 13, 31, 53, 53, 37, 73, 141, 37, 157, 53, 163, 71, 1, 49, 123, 3, 123, 123, 53, 510, 37, 53, 3, 31, 163, 111, 13, 61, 53, 31, 37, 37, 510, 151, 49, 61, 71, 760, 123, 61, 3, 9, 29, 13, 109, 119, 163, 53, 29, 39, 227, 453, 85, 123, 1, 19, 47, 3, 97, 79, 53, 95, 51, 67, 33, 25, 201, 121, 29, 31, 61, 113, 153, 163, 111, 1, 510, 31, 55, 1, 1, 453, 95, 101, 79, 73, 67, 37, 1, 31, 67, 29, 67, 47, 61, 49, 95, 109, 86, 683, 1, 95, 101, 65, 121, 31, 119, 103, 119, 49, 111, 135, 43, 13, 39, 510, 57, 17, 109, 143, 71, 79, 51, 93, 73, 1, 71, 157, 183, 29, 63, 25, 59, 3, 97, 29, 19, 35, 77, 163, 303, 31, 37, 163, 303, 3, 31, 97, 121, 111, 79, 35, 53, 67, 109, 55, 55, 3, 73, 139, 31, 67, 113, 23, 137, 13, 59, 51, 1, 123, 33, 81, 37, 167, 81, 1, 25, 85, 1, 209, 11, 47, 153, 55, 107, 51, 45, 37, 53, 79, 47, 37, 51, 201, 61, 153, 37, 1, 453, 35, 113, 95, 153, 163, 189, 81, 25, 3, 201, 161, 770, 57, 71, 35, 63, 43, 510, 121, 49, 3, 31, 510, 55, 49, 19, 17, 45, 37, 19, 13, 29, 13, 61, 53, 55, 35, 810, 3, 95, 141, 79, 113, 1, 37, 73, 179, 55, 63, 119, 49, 21, 630, 135, 129, 680, 79, 147, 63, 193, 67, 143, 73, 97, 33, 73, 157, 63, 31, 97, 73, 23, 149, 51, 113, 75, 59, 215, 37, 111, 61, 45, 65, 189, 89, 33, 31, 29, 31, 113, 41, 31, 45, 1, 45, 453, 189, 37, 3, 55, 71, 51, 71, 71, 3, 31, 79, 113, 151, 9, 81, 53, 55, 453, 1, 61, 109, 101, 65, 101, 1, 65, 760, 11, 51, 97, 99, 81, 183, 79, 21, 37, 19, 1, 760, 1, 1, 830, 99, 59, 139, 209, 25, 9, 59, 109, 439, 7, 57, 1, 11, 157, 13, 37, 33, 65, 680, 19, 119, 183, 59, 101, 13, 131, 760, 163, 71, 51, 9, 13, 95, 65, 59, 103, 97, 113, 25, 103, 105, 37, 49, 9, 57, 81, 81, 13, 81, 89, 197, 109, 31, 65, 37, 163, 127, 31, 119, 73, 73, 3, 103, 25, 83, 95, 1, 101, 45, 85, 23, 143, 121, 99, 39, 7, 157, 47, 49, 19, 153, 153, 21, 39, 35, 97, 97, 99, 73, 59, 113, 73, 810, 101, 121, 37, 103, 123, 157, 119, 121, 33, 31, 27, 95, 171, 159, 109, 3, 67, 97, 179, 119, 439, 21, 29, 33, 1, 31, 157, 111, 13, 173, 1, 63, 81, 1, 51, 5, 101, 9, 157, 157, 15, 55, 37, 77, 151, 1, 13, 183, 3, 79, 7, 5, 510, 81, 29, 103, 29, 49, 71, 31, 71, 97, 67, 57, 101, 61, 51, 760, 510, 35, 61, 33, 19, 167, 810, 33, 59, 630, 740, 183, 81, 111, 7, 177, 73, 71, 119, 81, 55, 29, 25, 7, 1, 61, 25, 103, 65, 33, 37, 43, 99, 680, 153, 101, 47, 19, 13, 53, 67, 1, 17, 103, 143, 5, 710, 89, 13, 101, 179, 7, 21, 29, 29, 95, 59, 630, 13, 35, 1, 7, 73, 201, 1, 119, 97, 37, 650, 163, 61, 81, 67, 29, 23, 25, 41, 67, 83, 13, 55, 5, 47, 61, 67, 101, 101, 51, 5, 33, 63, 119, 13, 121, 31, 131, 11, 103, 35, 11, 89, 63, 13, 1, 1, 77, 3, 3, 29, 11, 81, 201, 103, 77, 119, 95, 161, 81, 79, 143, 79, 7, 121, 89, 153, 119, 103, 57, 173, 75, 95, 189, 103, 57, 17, 71, 1, 13, 75, 37, 5, 87, 19, 1, 25, 103, 61, 113, 121, 99, 69, 119, 79, 119, 9, 49, 9, 63, 47, 27, 73, 57, 153, 73, 5, 103, 31, 5, 21, 55, 71, 35, 67, 49, 65, 13, 17, 185, 31, 97, 11, 29, 21, 59, 29, 47, 55, 31, 21, 89, 3, 73, 37, 89, 47, 55, 37, 189, 85, 53, 1, 67, 37, 41, 163, 37, 67, 3, 73, 185, 123, 67, 7, 13, 95, 29, 5, 57, 61, 153, 59, 63, 79, 55, 37, 37, 157, 13, 19, 43, 5, 47, 101, 51, 25, 13, 31, 61, 215, 47, 47, 85, 97, 63, 49, 65, 33, 51, 171, 491, 15, 55, 109, 760, 59, 41, 71, 91, 29, 7, 47, 99, 7, 59, 73, 11, 67, 73, 33, 31, 86, 33, 99, 3, 87, 75, 1, 31, 760, 31, 63, 3, 63, 71, 119, 71, 73, 3, 83, 33, 51, 111, 33, 33, 119, 45, 97, 155, 61, 17, 1, 760, 99, 1, 86, 740, 760, 37, 123, 33, 153, 51, 25, 51, 7, 760, 23, 201, 85, 115, 71, 71, 121, 1, 77, 59, 53, 3, 439, 121, 157, 71, 79, 39, 51, 67, 3, 13, 75, 121, 3, 760, 101, 25, 51, 145, 111, 51, 1, 3, 760, 37, 135, 145, 73, 37, 51, 59, 201, 33, 51, 760, 111, 19, 51, 129, 69, 37, 67, 111, 25, 183, 121, 37, 61, 51, 119, 51, 95, 75, 37, 1, 69, 199, 760, 453, 183, 189, 51, 153, 55, 143, 37, 1, 97, 33, 33, 201, 33, 121, 760, 51, 540, 37, 51, 49, 57, 189, 33, 1, 760, 81, 103, 25, 59, 19, 760, 760, 153, 163, 1, 453, 37, 13, 97, 29, 1, 101, 25, 79, 189, 13, 33, 1, 49, 760, 9, 25, 1, 101, 183, 3, 63, 37, 1, 37, 31, 95, 63, 85, 760, 39, 37, 51, 29, 57, 760, 65, 37, 155, 1, 49, 5, 121, 31, 51, 169, 13, 189, 189, 51, 453, 86, 169, 111, 163, 510, 510, 77, 27, 47, 81, 75, 39, 1, 51, 111, 65, 189, 197, 51, 37, 77, 33, 27, 111, 59, 49, 33, 45, 111, 21, 51, 183, 151, 73, 51, 31, 157, 183, 33, 111, 760, 86, 59, 153, 117, 33, 51, 33, 51, 57, 1, 3, 51, 183, 103, 33, 3, 61, 111, 89, 121, 9, 55, 3, 73, 67, 1, 37, 3, 89, 73, 51, 5, 95, 33, 33, 157, 105, 13, 510, 1, 51, 33, 1, 37, 57, 111, 81, 67, 141, 67, 97, 9, 97, 19, 121, 189, 67, 101, 79, 189, 105, 103, 13, 121, 5, 51, 121, 79, 37, 17, 5, 1, 67, 11, 51, 23, 111, 73, 111, 67, 51, 35, 35, 510, 37, 163, 510, 51, 35, 103, 121, 17, 15, 139, 183, 37, 83, 1, 47, 51, 163, 67, 73, 81, 197, 45, 19, 61, 37, 67, 47, 51, 7, 19, 510, 81, 51, 1, 67, 111, 51, 37, 189, 153, 3, 51, 61, 86, 33, 55, 730, 51, 77, 51, 163, 95, 31, 73, 51, 810, 453, 119, 119, 27, 13, 63, 53, 37, 51, 86, 51, 51, 81, 1, 103, 23, 31, 33, 51, 86, 57, 510, 103, 197, 86, 3, 51, 99, 109, 13, 37, 51, 79, 71, 95, 49, 770, 51, 85, 71, 31, 1, 33, 103, 99, 11, 61, 7, 71, 33, 37, 7, 163, 51, 41, 13, 67, 71, 111, 111, 51, 67, 183, 91, 153, 47, 39, 5, 367, 121, 1, 760, 37, 155, 5, 33, 37, 61, 7, 157, 145, 55, 53, 119, 123, 1, 67, 439, 67, 59, 453, 111, 51, 73, 423, 39, 51, 145, 3, 760, 13, 51, 67, 145, 61, 37, 73, 101, 67, 51, 21, 43, 39, 61, 31, 1, 39, 183, 51, 99, 163, 35, 79, 21, 51, 55, 760, 91, 129, 1, 51, 95, 51, 51, 173, 37, 29, 95, 37, 1, 201, 299, 47, 5, 201, 73, 37, 77, 71, 55, 453, 135, 61, 51, 1, 453, 19, 37, 121, 35, 9, 127, 73, 115, 45, 51, 151, 35, 51, 13, 3, 39, 51, 31, 6, 1, 71, 101, 51, 37, 251, 201, 73, 95, 51, 5, 111, 51, 111, 69, 121, 31, 217, 123, 17, 167, 79, 1, 57, 453, 57, 367, 21, 13, 189, 453, 57, 27, 33, 21, 111, 51, 31, 31, 37, 29, 73, 65, 25, 51, 630, 93, 1, 57, 67, 85]\n",
            "34508643.0\n"
          ],
          "name": "stdout"
        }
      ]
    }
  ]
}